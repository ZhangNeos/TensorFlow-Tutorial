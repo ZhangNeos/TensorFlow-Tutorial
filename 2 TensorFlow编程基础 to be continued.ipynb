{
 "cells": [
  {
   "cell_type": "markdown",
   "metadata": {},
   "source": [
    "### 2.1.2 编写hello world程序演示session的使用"
   ]
  },
  {
   "cell_type": "code",
   "execution_count": 1,
   "metadata": {},
   "outputs": [
    {
     "name": "stdout",
     "output_type": "stream",
     "text": [
      "Tensor(\"Const:0\", shape=(), dtype=string)\n",
      "b'Hello, TensorFlow!'\n"
     ]
    }
   ],
   "source": [
    "import tensorflow as tf\n",
    "# tf.constant定义的是一个常量，hello的内容只有在session的run内才可以返回\n",
    "hello = tf.constant('Hello, TensorFlow!')\n",
    "sess = tf.Session()\n",
    "print(hello)\n",
    "print(sess.run(hello))\n",
    "sess.close()"
   ]
  },
  {
   "cell_type": "markdown",
   "metadata": {},
   "source": [
    "### 2.1.3 演示with session的作用"
   ]
  },
  {
   "cell_type": "code",
   "execution_count": 2,
   "metadata": {},
   "outputs": [
    {
     "name": "stdout",
     "output_type": "stream",
     "text": [
      "相加:7\n",
      "相乘:12\n"
     ]
    }
   ],
   "source": [
    "import tensorflow as tf\n",
    "a = tf.constant(3)\n",
    "b = tf.constant(4)\n",
    "with tf.Session() as sess:\n",
    "    print('相加:{}'.format(sess.run(a+b)))\n",
    "    print('相乘:{}'.format(sess.run(a*b)))"
   ]
  },
  {
   "cell_type": "markdown",
   "metadata": {},
   "source": [
    "### 2.1.4 演示注入机制"
   ]
  },
  {
   "cell_type": "code",
   "execution_count": 3,
   "metadata": {},
   "outputs": [
    {
     "name": "stdout",
     "output_type": "stream",
     "text": [
      "相加:7\n",
      "相乘:12\n"
     ]
    }
   ],
   "source": [
    "import tensorflow as tf\n",
    "a = tf.placeholder(tf.int16)\n",
    "b = tf.placeholder(tf.int16)\n",
    "add = tf.add(a, b)\n",
    "mul = tf.multiply(a, b)\n",
    "with tf.Session() as sess:\n",
    "    print('相加:{}'.format(sess.run(add, feed_dict={a:3, b:4})))\n",
    "    print('相乘:{}'.format(sess.run(mul, feed_dict={a:3, b:4})))"
   ]
  },
  {
   "cell_type": "markdown",
   "metadata": {},
   "source": [
    "### 2.1.6 使用注入机制获取节点"
   ]
  },
  {
   "cell_type": "code",
   "execution_count": 4,
   "metadata": {},
   "outputs": [
    {
     "name": "stdout",
     "output_type": "stream",
     "text": [
      "[7, 12]\n"
     ]
    }
   ],
   "source": [
    "import tensorflow as tf\n",
    "a = tf.placeholder(tf.int16)\n",
    "b = tf.placeholder(tf.int16)\n",
    "add = tf.add(a, b)\n",
    "mul = tf.multiply(a, b)\n",
    "with tf.Session() as sess:\n",
    "    print(sess.run([add, mul], feed_dict={a:3, b:4})) # 一次获取多个节点的值"
   ]
  },
  {
   "cell_type": "markdown",
   "metadata": {},
   "source": [
    "### 2.1.9 保存和载入模型的方法的介绍"
   ]
  },
  {
   "cell_type": "code",
   "execution_count": 5,
   "metadata": {},
   "outputs": [
    {
     "data": {
      "text/plain": [
       "Ellipsis"
      ]
     },
     "execution_count": 5,
     "metadata": {},
     "output_type": "execute_result"
    }
   ],
   "source": [
    "# 保存模型\n",
    "...# 首先构建模型graph的操作\n",
    "# saver = tf.train.Saver() # 生成saver\n",
    "# with tf.Session as sess:\n",
    "#    sess.run(tf.global_variable_initializer()) # 对模型进行初始化\n",
    "...# 将数据注入模型进行训练\n",
    "# 使用saver.save进行保存\n",
    "# saver.save(sess, 'save_path/file_name')"
   ]
  },
  {
   "cell_type": "code",
   "execution_count": 6,
   "metadata": {},
   "outputs": [],
   "source": [
    "# 载入模型\n",
    "# saver = tf.train.Saver()\n",
    "# with tf.Session as sess:\n",
    "#   sess.run(tf.global_variables_initializer())\n",
    "#   sess.restore(sess, 'save_path/file_name')"
   ]
  },
  {
   "cell_type": "markdown",
   "metadata": {},
   "source": [
    "### 2.1.10 保存/载入线性回归模型"
   ]
  },
  {
   "cell_type": "code",
   "execution_count": 7,
   "metadata": {},
   "outputs": [],
   "source": [
    "import tensorflow as tf\n",
    "import numpy as np\n",
    "import matplotlib.pyplot as plt"
   ]
  },
  {
   "cell_type": "code",
   "execution_count": 8,
   "metadata": {},
   "outputs": [
    {
     "data": {
      "text/plain": [
       "<matplotlib.legend.Legend at 0x283934a2828>"
      ]
     },
     "execution_count": 8,
     "metadata": {},
     "output_type": "execute_result"
    },
    {
     "data": {
      "image/png": "[encoded data removed]",
      "text/plain": [
       "<Figure size 432x288 with 1 Axes>"
      ]
     },
     "metadata": {
      "needs_background": "light"
     },
     "output_type": "display_data"
    }
   ],
   "source": [
    "# 创建模拟数据\n",
    "train_x = np.linspace(-1, 1, 100)\n",
    "train_y = 2 * train_x + np.random.randn(*train_x.shape) * 0.3 # y=2x, 但加入了噪声\n",
    "plt.plot(train_x, train_y, 'ro', label='Original data' )\n",
    "plt.legend()"
   ]
  },
  {
   "cell_type": "code",
   "execution_count": 9,
   "metadata": {},
   "outputs": [
    {
     "name": "stdout",
     "output_type": "stream",
     "text": [
      "WARNING:tensorflow:From E:\\anaconda\\lib\\site-packages\\tensorflow\\python\\framework\\op_def_library.py:263: colocate_with (from tensorflow.python.framework.ops) is deprecated and will be removed in a future version.\n",
      "Instructions for updating:\n",
      "Colocations handled automatically by placer.\n"
     ]
    }
   ],
   "source": [
    "# 正向搭建模型\n",
    "# 占位符\n",
    "X = tf.placeholder('float')\n",
    "Y = tf.placeholder('float')\n",
    "# 模型参数\n",
    "W = tf.Variable(tf.random_normal([1]), name='weight')\n",
    "b = tf.Variable(tf.zeros([1], name='bias'))\n",
    "# 前向结构\n",
    "z = tf.multiply(W, X) + b"
   ]
  },
  {
   "cell_type": "code",
   "execution_count": 10,
   "metadata": {},
   "outputs": [
    {
     "name": "stdout",
     "output_type": "stream",
     "text": [
      "WARNING:tensorflow:From E:\\anaconda\\lib\\site-packages\\tensorflow\\python\\ops\\math_ops.py:3066: to_int32 (from tensorflow.python.ops.math_ops) is deprecated and will be removed in a future version.\n",
      "Instructions for updating:\n",
      "Use tf.cast instead.\n"
     ]
    }
   ],
   "source": [
    "# 反向搭建模型\n",
    "# 损失函数\n",
    "cost = tf.reduce_mean(tf.square(Y-z))\n",
    "# 学习率\n",
    "learning_rate = 0.01\n",
    "# 优化器\n",
    "optimizer = tf.train.GradientDescentOptimizer(learning_rate).minimize(cost)"
   ]
  },
  {
   "cell_type": "code",
   "execution_count": 11,
   "metadata": {},
   "outputs": [
    {
     "name": "stdout",
     "output_type": "stream",
     "text": [
      "Finished!\n",
      "cost= 0.08153944 w= [1.9949186] b= [0.00464372]\n"
     ]
    }
   ],
   "source": [
    "# 初始化所有变量\n",
    "init = tf.global_variables_initializer()\n",
    "# 生成saver和模型保存路径\n",
    "saver = tf.train.Saver()\n",
    "savedir = 'log/'\n",
    "# 定义参数\n",
    "training_epochs = 20 # 迭代次数\n",
    "# 启动session\n",
    "with tf.Session() as sess:\n",
    "    sess.run(init)\n",
    "    # 向模型输入数据并训练模型\n",
    "    for epoch in range(training_epochs):\n",
    "        for (x, y) in zip(train_x, train_y):\n",
    "            sess.run(optimizer, feed_dict={X:x, Y:y})\n",
    "    print('Finished!')\n",
    "    print('cost=', sess.run(cost, feed_dict={X:train_x, Y:train_y}), \n",
    "          'w=', sess.run(W), 'b=', sess.run(b))\n",
    "    # 保存模型\n",
    "    saver.save(sess, savedir+'linear_model.cpkt')\n",
    "    "
   ]
  },
  {
   "cell_type": "code",
   "execution_count": 12,
   "metadata": {},
   "outputs": [
    {
     "name": "stdout",
     "output_type": "stream",
     "text": [
      "WARNING:tensorflow:From E:\\anaconda\\lib\\site-packages\\tensorflow\\python\\training\\saver.py:1266: checkpoint_exists (from tensorflow.python.training.checkpoint_management) is deprecated and will be removed in a future version.\n",
      "Instructions for updating:\n",
      "Use standard file APIs to check for files with this prefix.\n",
      "INFO:tensorflow:Restoring parameters from log/linear_model.cpkt\n",
      "x=0.2, z= [0.40362743]\n"
     ]
    }
   ],
   "source": [
    "# 重启一个session并命名为sess2，在其中使用saver的restore函数载入模型\n",
    "with tf.Session() as sess2:\n",
    "    sess2.run(tf.global_variables_initializer())\n",
    "    saver.restore(sess2, savedir+'linear_model.cpkt')\n",
    "    print('x=0.2, z=', sess2.run(z, feed_dict={X: 0.2}))"
   ]
  },
  {
   "cell_type": "markdown",
   "metadata": {},
   "source": [
    "### 2.1.11 分析模型内容，演示模型保存的其他方法"
   ]
  },
  {
   "cell_type": "code",
   "execution_count": 13,
   "metadata": {},
   "outputs": [
    {
     "name": "stdout",
     "output_type": "stream",
     "text": [
      "tensor_name:  Variable\n",
      "[0.00464372]\n",
      "tensor_name:  weight\n",
      "[1.9949186]\n"
     ]
    }
   ],
   "source": [
    "# 模型内容\n",
    "from tensorflow.python.tools.inspect_checkpoint import print_tensors_in_checkpoint_file\n",
    "savedir = 'log/'\n",
    "# tensor_name 后面是创建的变量名，接着是它的数值\n",
    "print_tensors_in_checkpoint_file(savedir+'linear_model.cpkt',None,True)"
   ]
  },
  {
   "cell_type": "markdown",
   "metadata": {},
   "source": [
    "### 2.1.13 为模型添加保存检查点"
   ]
  },
  {
   "cell_type": "code",
   "execution_count": 14,
   "metadata": {},
   "outputs": [
    {
     "data": {
      "image/png": "[encoded data removed]",
      "text/plain": [
       "<Figure size 432x288 with 1 Axes>"
      ]
     },
     "metadata": {
      "needs_background": "light"
     },
     "output_type": "display_data"
    }
   ],
   "source": [
    "import tensorflow as tf\n",
    "import numpy as np\n",
    "import matplotlib.pyplot as plt\n",
    "import pandas as pd\n",
    "\n",
    "# 定义生成loss可视化的函数\n",
    "plotdata = {'batch_num':[], 'loss':[]}\n",
    "\n",
    "# 定义滑动平均函数\n",
    "def moving_average(a, w=10):\n",
    "    if len(a) < 10:\n",
    "        return a[:]\n",
    "    return [val if idx < w else sum(a[(idx - w):idx]) / w for idx, val in enumerate(a)]\n",
    "\n",
    "# 生成模拟数据\n",
    "train_x = np.linspace(-1, 1, 100)\n",
    "train_y = 2 * train_x + np.random.randn(*train_x.shape)*0.3 # y=2x 但加入了噪声\n",
    "\n",
    "# 图形显示\n",
    "plt.plot(train_x, train_y, 'ro', label='Original data')\n",
    "plt.legend()\n",
    "plt.show()"
   ]
  },
  {
   "cell_type": "code",
   "execution_count": 15,
   "metadata": {},
   "outputs": [],
   "source": [
    "tf.reset_default_graph() # 清除默认图形堆栈并重置全局默认图形"
   ]
  },
  {
   "cell_type": "code",
   "execution_count": 16,
   "metadata": {},
   "outputs": [
    {
     "name": "stdout",
     "output_type": "stream",
     "text": [
      "Epoch: 1 cost= 0.56186587 W= [0.91501194] b= [0.13890307]\n",
      "Epoch: 3 cost= 0.1417129 W= [1.7292371] b= [0.12415772]\n",
      "WARNING:tensorflow:From E:\\anaconda\\lib\\site-packages\\tensorflow\\python\\training\\saver.py:966: remove_checkpoint (from tensorflow.python.training.checkpoint_management) is deprecated and will be removed in a future version.\n",
      "Instructions for updating:\n",
      "Use standard file APIs to delete files with this prefix.\n",
      "Epoch: 5 cost= 0.09107463 W= [1.9721569] b= [0.03594819]\n",
      "Epoch: 7 cost= 0.08699996 W= [2.035514] b= [0.01171957]\n",
      "Epoch: 9 cost= 0.086581364 W= [2.0519052] b= [0.00543094]\n",
      "Epoch: 11 cost= 0.08651573 W= [2.0561428] b= [0.00380475]\n",
      "Epoch: 13 cost= 0.086501606 W= [2.0572386] b= [0.0033843]\n",
      "Epoch: 15 cost= 0.086498134 W= [2.057523] b= [0.00327521]\n",
      "Epoch: 17 cost= 0.08649725 W= [2.0575957] b= [0.00324731]\n",
      "Epoch: 19 cost= 0.08649704 W= [2.057614] b= [0.00324019]\n",
      "Finished!\n",
      "cost= 0.086497 W= [2.0576172] b= [0.00323901]\n"
     ]
    },
    {
     "data": {
      "image/png": "[encoded data removed]",
      "text/plain": [
       "<Figure size 432x288 with 1 Axes>"
      ]
     },
     "metadata": {
      "needs_background": "light"
     },
     "output_type": "display_data"
    },
    {
     "data": {
      "image/png": "[encoded data removed]",
      "text/plain": [
       "<Figure size 432x288 with 1 Axes>"
      ]
     },
     "metadata": {
      "needs_background": "light"
     },
     "output_type": "display_data"
    },
    {
     "name": "stdout",
     "output_type": "stream",
     "text": [
      "INFO:tensorflow:Restoring parameters from log/linear_model.cpkt-18\n",
      "x=0.2, z= [0.41476303]\n"
     ]
    }
   ],
   "source": [
    "# 创建模型\n",
    "# 占位符\n",
    "X = tf.placeholder('float')\n",
    "Y = tf.placeholder('float')\n",
    "# 模型参数\n",
    "W = tf.Variable(tf.random_normal([1]), name='weight')\n",
    "b = tf.Variable(tf.random_normal([1]), name='bias')\n",
    "# 前向结构\n",
    "z = tf.multiply(X, W)+b\n",
    "\n",
    "# 反向优化\n",
    "cost = tf.reduce_mean(tf.square(Y-z))\n",
    "learning_rate=0.01\n",
    "optimizer = tf.train.GradientDescentOptimizer(learning_rate).minimize(cost)\n",
    "\n",
    "# 初始化所有变量\n",
    "init = tf.global_variables_initializer()\n",
    "# 定义学习参数\n",
    "training_epochs=20\n",
    "display_step=2\n",
    "saver = tf.train.Saver(max_to_keep=1) # 迭代过程中只保存一个文件\n",
    "                                      # 在循环训练过程中新生成的模型会覆盖之前的模型\n",
    "# 启动图\n",
    "with tf.Session() as sess:\n",
    "    sess.run(init) # 初始化所有变量\n",
    "    # 向模型中输入数据并进行训练\n",
    "    for epoch in range(training_epochs):\n",
    "        for (x, y) in zip(train_x, train_y):\n",
    "            sess.run(optimizer, feed_dict={X:x, Y:y})\n",
    "        # 显示训练中的详细信息\n",
    "        if epoch % display_step == 0:\n",
    "            loss = sess.run(cost, feed_dict={X:train_x, Y:train_y})\n",
    "            print('Epoch:',epoch+1, 'cost=',loss, 'W=', sess.run(W), 'b=', sess.run(b) )\n",
    "            if not (loss=='NA'):\n",
    "                plotdata['batch_num'].append(epoch)\n",
    "                plotdata['loss'].append(loss)\n",
    "            saver.save(sess, savedir+'linear_model.cpkt', global_step=epoch)\n",
    "    print('Finished!')\n",
    "    print('cost=', sess.run(cost, feed_dict={X:train_x, Y:train_y}), 'W=', sess.run(W), 'b=', sess.run(b))\n",
    "    # 显示模型\n",
    "    plt.plot(train_x, train_y, 'ro', label='Original data')\n",
    "    plt.plot(train_x, sess.run(W) * train_x + sess.run(b), label='Fitted Line')\n",
    "    plt.legend()\n",
    "    plt.show()\n",
    "    \n",
    "    plotdata['avgloss'] = moving_average(plotdata['loss'])\n",
    "    plt.figure(1)\n",
    "    plt.subplot(211)\n",
    "    plt.plot(plotdata['batch_num'], plotdata['avgloss'], 'b--')\n",
    "    plt.xlabel('Minibatch number')\n",
    "    plt.ylabel('Loss')\n",
    "    plt.title('Minibatch run vs Training loss')\n",
    "    plt.show()\n",
    "    \n",
    "# 重启一个session， 载入检查点\n",
    "load_epoch=18\n",
    "with tf.Session() as sess2:\n",
    "    sess2.run(tf.global_variables_initializer())\n",
    "    saver.restore(sess2, savedir+'linear_model.cpkt-'+str(load_epoch))\n",
    "    print('x=0.2, z=', sess2.run(z, feed_dict={X:0.2}))"
   ]
  },
  {
   "cell_type": "code",
   "execution_count": 17,
   "metadata": {},
   "outputs": [],
   "source": [
    "# 快速获取到检查点文件\n",
    "#ckpt = tf.train.get_checkpoint_state(spkt_dir)\n",
    "#if ckpt and ckpt.model_checkpoint_path:\n",
    "#    saver,restore(sess, ckpt.model_checkpoint_path)"
   ]
  },
  {
   "cell_type": "code",
   "execution_count": 18,
   "metadata": {},
   "outputs": [],
   "source": [
    "# 更简洁的写法\n",
    "#kpt = tf.train.latest_checkpoint(savedir)\n",
    "#    if kpt != None:\n",
    "#       saver.restore(sess, kpt)"
   ]
  },
  {
   "cell_type": "markdown",
   "metadata": {},
   "source": [
    "### 2.3.3 演示get_variable 和Variable的区别"
   ]
  },
  {
   "cell_type": "code",
   "execution_count": 19,
   "metadata": {},
   "outputs": [
    {
     "name": "stdout",
     "output_type": "stream",
     "text": [
      "var1: firstvar:0\n",
      "var1: firstvar_1:0\n"
     ]
    }
   ],
   "source": [
    "# Variable的用法\n",
    "import tensorflow as tf\n",
    "\n",
    "var1 = tf.Variable(1.0, name='firstvar')\n",
    "print('var1:', var1.name)\n",
    "var1 = tf.Variable(2.0, name='firstvar') # 内存中生成了两个var1，但只有之后的var1生效\n",
    "# name属性重复系统自动编号进行区分\n",
    "print('var1:', var1.name)"
   ]
  },
  {
   "cell_type": "code",
   "execution_count": 20,
   "metadata": {},
   "outputs": [
    {
     "name": "stdout",
     "output_type": "stream",
     "text": [
      "var2: Variable:0\n",
      "var2: Variable_1:0\n"
     ]
    }
   ],
   "source": [
    "var2 = tf.Variable(3.0) # 为var2分配系统默认的name属性—Variable:0\n",
    "print('var2:',var2.name)\n",
    "var2 = tf.Variable(4.0)\n",
    "print('var2:', var2.name)"
   ]
  },
  {
   "cell_type": "code",
   "execution_count": 21,
   "metadata": {},
   "outputs": [
    {
     "name": "stdout",
     "output_type": "stream",
     "text": [
      "var1= 2.0\n",
      "var2= 4.0\n",
      "get_var1: firstvar_2:0\n"
     ]
    }
   ],
   "source": [
    "with tf.Session() as sess:\n",
    "    sess.run(tf.global_variables_initializer())\n",
    "    print('var1=', var1.eval())\n",
    "    print('var2=', var2.eval())\n",
    "    \n",
    "    # get_variable一般会配合variable_scope一起使用，以实现共享变量\n",
    "    # get_variable用法演示\n",
    "    # get_variable和Variable的区别\n",
    "    get_var1=tf.get_variable(name='firstvar', shape=[1], initializer=tf.constant_initializer(0.3))\n",
    "    print('get_var1:', get_var1.name)\n",
    "    \n",
    "    #get_var1=tf.get_variable(name='firstvar', shape=[1], initializer=tf.constant_initializer(0.4)) \n",
    "    #ValueError \n",
    "    # 使用get_variable只能定义一次指定名称的变量，不能创建两个相同名字的变量"
   ]
  },
  {
   "cell_type": "markdown",
   "metadata": {},
   "source": [
    "### 在特定作用域下获取变量"
   ]
  },
  {
   "cell_type": "code",
   "execution_count": 22,
   "metadata": {},
   "outputs": [
    {
     "name": "stdout",
     "output_type": "stream",
     "text": [
      "var1: test1/firstvar:0\n",
      "var2: test2/firstvar:0\n"
     ]
    }
   ],
   "source": [
    "# 在作用域下，使用get_variable，以及嵌套variable_scope\n",
    "# 在同一作用域内，不能使用get_variable创建两个同样的名字。可以使用variable_scope将同名变量名分隔\n",
    "\n",
    "import tensorflow as tf\n",
    "with tf.variable_scope('test1',): # 定义一个作用域test1\n",
    "    var1 = tf.get_variable('firstvar', shape=[2], dtype=tf.float32)\n",
    "with tf.variable_scope('test2',): \n",
    "    var2 = tf.get_variable('firstvar', shape=[2], dtype=tf.float32)\n",
    "\n",
    "print('var1:', var1.name) # 通过输出可以看出，生成的var1和var2作用在不同的scope下\n",
    "print('var2:', var2.name)"
   ]
  },
  {
   "cell_type": "code",
   "execution_count": 23,
   "metadata": {},
   "outputs": [
    {
     "name": "stdout",
     "output_type": "stream",
     "text": [
      "var_1: test_1/firstvar:0\n",
      "var_2: test_1/test_2/firstvar:0\n"
     ]
    }
   ],
   "source": [
    "# variable_scope支持嵌套\n",
    "with tf.variable_scope('test_1',):\n",
    "    var_1 = tf.get_variable('firstvar', shape=[2], dtype=tf.float32)\n",
    "    with tf.variable_scope('test_2',):\n",
    "        var_2 = tf.get_variable('firstvar', shape=[2], dtype=tf.float32)\n",
    "print('var_1:', var_1.name)\n",
    "print('var_2:', var_2.name)"
   ]
  },
  {
   "cell_type": "markdown",
   "metadata": {},
   "source": [
    "### 2.3.5 共享变量功能的实现"
   ]
  },
  {
   "cell_type": "code",
   "execution_count": 24,
   "metadata": {},
   "outputs": [
    {
     "ename": "ValueError",
     "evalue": "Variable test1/test2/firstvar does not exist, or was not created with tf.get_variable(). Did you mean to set reuse=tf.AUTO_REUSE in VarScope?",
     "output_type": "error",
     "traceback": [
      "\u001b[1;31m---------------------------------------------------------------------------\u001b[0m",
      "\u001b[1;31mValueError\u001b[0m                                Traceback (most recent call last)",
      "\u001b[1;32m<ipython-input-24-0a92dfc99020>\u001b[0m in \u001b[0;36m<module>\u001b[1;34m\u001b[0m\n\u001b[0;32m      6\u001b[0m     \u001b[0mvar3\u001b[0m \u001b[1;33m=\u001b[0m \u001b[0mtf\u001b[0m\u001b[1;33m.\u001b[0m\u001b[0mget_variable\u001b[0m\u001b[1;33m(\u001b[0m\u001b[1;34m'firstvar'\u001b[0m\u001b[1;33m,\u001b[0m \u001b[0mshape\u001b[0m\u001b[1;33m=\u001b[0m\u001b[1;33m[\u001b[0m\u001b[1;36m2\u001b[0m\u001b[1;33m]\u001b[0m\u001b[1;33m,\u001b[0m \u001b[0mdtype\u001b[0m\u001b[1;33m=\u001b[0m\u001b[0mtf\u001b[0m\u001b[1;33m.\u001b[0m\u001b[0mfloat32\u001b[0m\u001b[1;33m)\u001b[0m\u001b[1;33m\u001b[0m\u001b[1;33m\u001b[0m\u001b[0m\n\u001b[0;32m      7\u001b[0m     \u001b[1;32mwith\u001b[0m \u001b[0mtf\u001b[0m\u001b[1;33m.\u001b[0m\u001b[0mvariable_scope\u001b[0m\u001b[1;33m(\u001b[0m\u001b[1;34m'test2'\u001b[0m\u001b[1;33m)\u001b[0m\u001b[1;33m:\u001b[0m\u001b[1;33m\u001b[0m\u001b[1;33m\u001b[0m\u001b[0m\n\u001b[1;32m----> 8\u001b[1;33m         \u001b[0mvar4\u001b[0m \u001b[1;33m=\u001b[0m \u001b[0mtf\u001b[0m\u001b[1;33m.\u001b[0m\u001b[0mget_variable\u001b[0m\u001b[1;33m(\u001b[0m\u001b[1;34m'firstvar'\u001b[0m\u001b[1;33m,\u001b[0m \u001b[0mshape\u001b[0m\u001b[1;33m=\u001b[0m\u001b[1;33m[\u001b[0m\u001b[1;36m2\u001b[0m\u001b[1;33m]\u001b[0m\u001b[1;33m,\u001b[0m \u001b[0mdtype\u001b[0m\u001b[1;33m=\u001b[0m\u001b[0mtf\u001b[0m\u001b[1;33m.\u001b[0m\u001b[0mfloat32\u001b[0m\u001b[1;33m)\u001b[0m\u001b[1;33m\u001b[0m\u001b[1;33m\u001b[0m\u001b[0m\n\u001b[0m\u001b[0;32m      9\u001b[0m \u001b[1;33m\u001b[0m\u001b[0m\n\u001b[0;32m     10\u001b[0m \u001b[0mprint\u001b[0m\u001b[1;33m(\u001b[0m\u001b[1;34m'var3:'\u001b[0m\u001b[1;33m,\u001b[0m\u001b[0mvar3\u001b[0m\u001b[1;33m.\u001b[0m\u001b[0mname\u001b[0m\u001b[1;33m)\u001b[0m\u001b[1;33m\u001b[0m\u001b[1;33m\u001b[0m\u001b[0m\n",
      "\u001b[1;32mE:\\anaconda\\lib\\site-packages\\tensorflow\\python\\ops\\variable_scope.py\u001b[0m in \u001b[0;36mget_variable\u001b[1;34m(name, shape, dtype, initializer, regularizer, trainable, collections, caching_device, partitioner, validate_shape, use_resource, custom_getter, constraint, synchronization, aggregation)\u001b[0m\n\u001b[0;32m   1477\u001b[0m       \u001b[0mconstraint\u001b[0m\u001b[1;33m=\u001b[0m\u001b[0mconstraint\u001b[0m\u001b[1;33m,\u001b[0m\u001b[1;33m\u001b[0m\u001b[1;33m\u001b[0m\u001b[0m\n\u001b[0;32m   1478\u001b[0m       \u001b[0msynchronization\u001b[0m\u001b[1;33m=\u001b[0m\u001b[0msynchronization\u001b[0m\u001b[1;33m,\u001b[0m\u001b[1;33m\u001b[0m\u001b[1;33m\u001b[0m\u001b[0m\n\u001b[1;32m-> 1479\u001b[1;33m       aggregation=aggregation)\n\u001b[0m\u001b[0;32m   1480\u001b[0m \u001b[1;33m\u001b[0m\u001b[0m\n\u001b[0;32m   1481\u001b[0m \u001b[1;33m\u001b[0m\u001b[0m\n",
      "\u001b[1;32mE:\\anaconda\\lib\\site-packages\\tensorflow\\python\\ops\\variable_scope.py\u001b[0m in \u001b[0;36mget_variable\u001b[1;34m(self, var_store, name, shape, dtype, initializer, regularizer, reuse, trainable, collections, caching_device, partitioner, validate_shape, use_resource, custom_getter, constraint, synchronization, aggregation)\u001b[0m\n\u001b[0;32m   1218\u001b[0m           \u001b[0mconstraint\u001b[0m\u001b[1;33m=\u001b[0m\u001b[0mconstraint\u001b[0m\u001b[1;33m,\u001b[0m\u001b[1;33m\u001b[0m\u001b[1;33m\u001b[0m\u001b[0m\n\u001b[0;32m   1219\u001b[0m           \u001b[0msynchronization\u001b[0m\u001b[1;33m=\u001b[0m\u001b[0msynchronization\u001b[0m\u001b[1;33m,\u001b[0m\u001b[1;33m\u001b[0m\u001b[1;33m\u001b[0m\u001b[0m\n\u001b[1;32m-> 1220\u001b[1;33m           aggregation=aggregation)\n\u001b[0m\u001b[0;32m   1221\u001b[0m \u001b[1;33m\u001b[0m\u001b[0m\n\u001b[0;32m   1222\u001b[0m   def _get_partitioned_variable(self,\n",
      "\u001b[1;32mE:\\anaconda\\lib\\site-packages\\tensorflow\\python\\ops\\variable_scope.py\u001b[0m in \u001b[0;36mget_variable\u001b[1;34m(self, name, shape, dtype, initializer, regularizer, reuse, trainable, collections, caching_device, partitioner, validate_shape, use_resource, custom_getter, constraint, synchronization, aggregation)\u001b[0m\n\u001b[0;32m    545\u001b[0m           \u001b[0mconstraint\u001b[0m\u001b[1;33m=\u001b[0m\u001b[0mconstraint\u001b[0m\u001b[1;33m,\u001b[0m\u001b[1;33m\u001b[0m\u001b[1;33m\u001b[0m\u001b[0m\n\u001b[0;32m    546\u001b[0m           \u001b[0msynchronization\u001b[0m\u001b[1;33m=\u001b[0m\u001b[0msynchronization\u001b[0m\u001b[1;33m,\u001b[0m\u001b[1;33m\u001b[0m\u001b[1;33m\u001b[0m\u001b[0m\n\u001b[1;32m--> 547\u001b[1;33m           aggregation=aggregation)\n\u001b[0m\u001b[0;32m    548\u001b[0m \u001b[1;33m\u001b[0m\u001b[0m\n\u001b[0;32m    549\u001b[0m   def _get_partitioned_variable(self,\n",
      "\u001b[1;32mE:\\anaconda\\lib\\site-packages\\tensorflow\\python\\ops\\variable_scope.py\u001b[0m in \u001b[0;36m_true_getter\u001b[1;34m(name, shape, dtype, initializer, regularizer, reuse, trainable, collections, caching_device, partitioner, validate_shape, use_resource, constraint, synchronization, aggregation)\u001b[0m\n\u001b[0;32m    497\u001b[0m           \u001b[0mconstraint\u001b[0m\u001b[1;33m=\u001b[0m\u001b[0mconstraint\u001b[0m\u001b[1;33m,\u001b[0m\u001b[1;33m\u001b[0m\u001b[1;33m\u001b[0m\u001b[0m\n\u001b[0;32m    498\u001b[0m           \u001b[0msynchronization\u001b[0m\u001b[1;33m=\u001b[0m\u001b[0msynchronization\u001b[0m\u001b[1;33m,\u001b[0m\u001b[1;33m\u001b[0m\u001b[1;33m\u001b[0m\u001b[0m\n\u001b[1;32m--> 499\u001b[1;33m           aggregation=aggregation)\n\u001b[0m\u001b[0;32m    500\u001b[0m \u001b[1;33m\u001b[0m\u001b[0m\n\u001b[0;32m    501\u001b[0m     \u001b[1;31m# Set trainable value based on synchronization value.\u001b[0m\u001b[1;33m\u001b[0m\u001b[1;33m\u001b[0m\u001b[1;33m\u001b[0m\u001b[0m\n",
      "\u001b[1;32mE:\\anaconda\\lib\\site-packages\\tensorflow\\python\\ops\\variable_scope.py\u001b[0m in \u001b[0;36m_get_single_variable\u001b[1;34m(self, name, shape, dtype, initializer, regularizer, partition_info, reuse, trainable, collections, caching_device, validate_shape, use_resource, constraint, synchronization, aggregation)\u001b[0m\n\u001b[0;32m    864\u001b[0m       raise ValueError(\"Variable %s does not exist, or was not created with \"\n\u001b[0;32m    865\u001b[0m                        \u001b[1;34m\"tf.get_variable(). Did you mean to set \"\u001b[0m\u001b[1;33m\u001b[0m\u001b[1;33m\u001b[0m\u001b[0m\n\u001b[1;32m--> 866\u001b[1;33m                        \"reuse=tf.AUTO_REUSE in VarScope?\" % name)\n\u001b[0m\u001b[0;32m    867\u001b[0m \u001b[1;33m\u001b[0m\u001b[0m\n\u001b[0;32m    868\u001b[0m     \u001b[1;31m# Create the tensor to initialize the variable with default value.\u001b[0m\u001b[1;33m\u001b[0m\u001b[1;33m\u001b[0m\u001b[1;33m\u001b[0m\u001b[0m\n",
      "\u001b[1;31mValueError\u001b[0m: Variable test1/test2/firstvar does not exist, or was not created with tf.get_variable(). Did you mean to set reuse=tf.AUTO_REUSE in VarScope?"
     ]
    }
   ],
   "source": [
    "# get_variable的主要功能是实现 共享变量\n",
    "# variable_scope里面有一个reuse=True 属性，表示使用已经定义过的变量\n",
    "# get_variable将不会再创建新的变量，而是去图中get_variable所创建变量中找与name相同的变量\n",
    "\n",
    "with tf.variable_scope('test1', reuse=True):\n",
    "    var3 = tf.get_variable('firstvar', shape=[2], dtype=tf.float32)\n",
    "    with tf.variable_scope('test2'):\n",
    "        var4 = tf.get_variable('firstvar', shape=[2], dtype=tf.float32)\n",
    "\n",
    "print('var3:',var3.name)\n",
    "print('var4:',var4.name)"
   ]
  },
  {
   "cell_type": "code",
   "execution_count": null,
   "metadata": {},
   "outputs": [],
   "source": []
  }
 ],
 "metadata": {
  "kernelspec": {
   "display_name": "Python 3",
   "language": "python",
   "name": "python3"
  },
  "language_info": {
   "codemirror_mode": {
    "name": "ipython",
    "version": 3
   },
   "file_extension": ".py",
   "mimetype": "text/x-python",
   "name": "python",
   "nbconvert_exporter": "python",
   "pygments_lexer": "ipython3",
   "version": "3.7.1"
  }
 },
 "nbformat": 4,
 "nbformat_minor": 2
}
