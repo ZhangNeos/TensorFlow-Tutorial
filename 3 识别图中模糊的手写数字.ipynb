{
 "cells": [
  {
   "cell_type": "markdown",
   "metadata": {},
   "source": [
    "## 3.1 导入图片数据集"
   ]
  },
  {
   "cell_type": "markdown",
   "metadata": {},
   "source": [
    "### 3.1.1 下载并安装MNIST数据集"
   ]
  },
  {
   "cell_type": "code",
   "execution_count": 1,
   "metadata": {},
   "outputs": [
    {
     "name": "stdout",
     "output_type": "stream",
     "text": [
      "WARNING:tensorflow:From <ipython-input-1-9e3df28a70a6>:5: read_data_sets (from tensorflow.contrib.learn.python.learn.datasets.mnist) is deprecated and will be removed in a future version.\n",
      "Instructions for updating:\n",
      "Please use alternatives such as official/mnist/dataset.py from tensorflow/models.\n",
      "WARNING:tensorflow:From E:\\anaconda\\lib\\site-packages\\tensorflow\\contrib\\learn\\python\\learn\\datasets\\mnist.py:260: maybe_download (from tensorflow.contrib.learn.python.learn.datasets.base) is deprecated and will be removed in a future version.\n",
      "Instructions for updating:\n",
      "Please write your own downloading logic.\n",
      "WARNING:tensorflow:From E:\\anaconda\\lib\\site-packages\\tensorflow\\contrib\\learn\\python\\learn\\datasets\\mnist.py:262: extract_images (from tensorflow.contrib.learn.python.learn.datasets.mnist) is deprecated and will be removed in a future version.\n",
      "Instructions for updating:\n",
      "Please use tf.data to implement this functionality.\n",
      "Extracting MNIST_data/train-images-idx3-ubyte.gz\n",
      "WARNING:tensorflow:From E:\\anaconda\\lib\\site-packages\\tensorflow\\contrib\\learn\\python\\learn\\datasets\\mnist.py:267: extract_labels (from tensorflow.contrib.learn.python.learn.datasets.mnist) is deprecated and will be removed in a future version.\n",
      "Instructions for updating:\n",
      "Please use tf.data to implement this functionality.\n",
      "Extracting MNIST_data/train-labels-idx1-ubyte.gz\n",
      "WARNING:tensorflow:From E:\\anaconda\\lib\\site-packages\\tensorflow\\contrib\\learn\\python\\learn\\datasets\\mnist.py:110: dense_to_one_hot (from tensorflow.contrib.learn.python.learn.datasets.mnist) is deprecated and will be removed in a future version.\n",
      "Instructions for updating:\n",
      "Please use tf.one_hot on tensors.\n",
      "Extracting MNIST_data/t10k-images-idx3-ubyte.gz\n",
      "Extracting MNIST_data/t10k-labels-idx1-ubyte.gz\n",
      "WARNING:tensorflow:From E:\\anaconda\\lib\\site-packages\\tensorflow\\contrib\\learn\\python\\learn\\datasets\\mnist.py:290: DataSet.__init__ (from tensorflow.contrib.learn.python.learn.datasets.mnist) is deprecated and will be removed in a future version.\n",
      "Instructions for updating:\n",
      "Please use alternatives such as official/mnist/dataset.py from tensorflow/models.\n"
     ]
    }
   ],
   "source": [
    "%matplotlib inline\n",
    "# 下载数据集并将文件解压到当前代码所在同级目录的MNIST_data文件夹下\n",
    "\n",
    "from tensorflow.examples.tutorials.mnist import input_data\n",
    "mnist = input_data.read_data_sets('MNIST_data/', one_hot=True) # one_hot = True表示对标签进行独热编码"
   ]
  },
  {
   "cell_type": "code",
   "execution_count": 2,
   "metadata": {},
   "outputs": [
    {
     "name": "stdout",
     "output_type": "stream",
     "text": [
      "输入数据: [[0. 0. 0. ... 0. 0. 0.]\n",
      " [0. 0. 0. ... 0. 0. 0.]\n",
      " [0. 0. 0. ... 0. 0. 0.]\n",
      " ...\n",
      " [0. 0. 0. ... 0. 0. 0.]\n",
      " [0. 0. 0. ... 0. 0. 0.]\n",
      " [0. 0. 0. ... 0. 0. 0.]]\n",
      "输入数据的形状: (55000, 784)\n"
     ]
    },
    {
     "data": {
      "image/png": "[encoded data removed]",
      "text/plain": [
       "<Figure size 432x288 with 1 Axes>"
      ]
     },
     "metadata": {
      "needs_background": "light"
     },
     "output_type": "display_data"
    }
   ],
   "source": [
    "print('输入数据:', mnist.train.images)\n",
    "print('输入数据的形状:', mnist.train.images.shape)\n",
    "import pylab\n",
    "im = mnist.train.images[1]\n",
    "im = im.reshape(-1, 28)\n",
    "pylab.imshow(im)\n",
    "pylab.show()"
   ]
  },
  {
   "cell_type": "code",
   "execution_count": 3,
   "metadata": {},
   "outputs": [
    {
     "name": "stdout",
     "output_type": "stream",
     "text": [
      "测试数据的形状: (10000, 784)\n",
      "输入数据的形状: (5000, 784)\n"
     ]
    }
   ],
   "source": [
    "# MNIST包含3个数据集: 第一个是训练数据集，另外两个分别是测试数据集(mnist.test)和验证数据集(minst.validation)\n",
    "print('测试数据的形状:', mnist.test.images.shape)\n",
    "print('输入数据的形状:', mnist.validation.images.shape)"
   ]
  },
  {
   "cell_type": "markdown",
   "metadata": {},
   "source": [
    "## 3.2 分析图片的特点，定义变量"
   ]
  },
  {
   "cell_type": "code",
   "execution_count": 4,
   "metadata": {},
   "outputs": [
    {
     "name": "stdout",
     "output_type": "stream",
     "text": [
      "Extracting MNIST_data/train-images-idx3-ubyte.gz\n",
      "Extracting MNIST_data/train-labels-idx1-ubyte.gz\n",
      "Extracting MNIST_data/t10k-images-idx3-ubyte.gz\n",
      "Extracting MNIST_data/t10k-labels-idx1-ubyte.gz\n"
     ]
    }
   ],
   "source": [
    "import tensorflow as tf\n",
    "from tensorflow.examples.tutorials.mnist import input_data\n",
    "import pylab\n",
    "\n",
    "mnist = input_data.read_data_sets('MNIST_data/', one_hot=True)\n",
    "\n",
    "# 创建saver对象\n",
    "saver = tf.train.Saver()\n",
    "# 设置存储路径\n",
    "model_path = 'log/MNIST_recognition'\n",
    "\n",
    "tf.reset_default_graph()\n",
    "# 定义占位符\n",
    "x = tf.placeholder(tf.float32, shape=[None, 28*28]) # 输入图片的维度为28 * 28 =784\n",
    "                                                    # shape参数中的None代表张量的第一个维度可以是任意长度的\n",
    "y = tf.placeholder(tf.float32, shape=[None, 10]) # 数字0-9，共10个类别"
   ]
  },
  {
   "cell_type": "markdown",
   "metadata": {},
   "source": [
    "## 3.3 构建模型"
   ]
  },
  {
   "cell_type": "code",
   "execution_count": 5,
   "metadata": {},
   "outputs": [
    {
     "name": "stdout",
     "output_type": "stream",
     "text": [
      "WARNING:tensorflow:From E:\\anaconda\\lib\\site-packages\\tensorflow\\python\\framework\\op_def_library.py:263: colocate_with (from tensorflow.python.framework.ops) is deprecated and will be removed in a future version.\n",
      "Instructions for updating:\n",
      "Colocations handled automatically by placer.\n",
      "WARNING:tensorflow:From E:\\anaconda\\lib\\site-packages\\tensorflow\\python\\ops\\math_ops.py:3066: to_int32 (from tensorflow.python.ops.math_ops) is deprecated and will be removed in a future version.\n",
      "Instructions for updating:\n",
      "Use tf.cast instead.\n"
     ]
    }
   ],
   "source": [
    "# 定义学习参数\n",
    "w = tf.Variable(tf.random_normal(([784, 10])), name='weight')\n",
    "b = tf.Variable(tf.zeros(([10])), name='bias')\n",
    "\n",
    "# 搭建正向模型—定义输出节点\n",
    "pred = tf.nn.softmax(tf.matmul(x, w) + b) # softmax分类\n",
    "\n",
    "# 搭建反向模型—定义反向传播的结构\n",
    "# 定义损失函数\n",
    "cost = tf.reduce_mean(-tf.reduce_sum(y * tf.log(pred), reduction_indices=1))\n",
    "\n",
    "# 使用梯度下降优化器\n",
    "learning_rate = 0.01\n",
    "optimizer = tf.train.GradientDescentOptimizer(learning_rate).minimize(cost)"
   ]
  },
  {
   "cell_type": "markdown",
   "metadata": {},
   "source": [
    "## 训练模型并输出中间状态参数"
   ]
  },
  {
   "cell_type": "code",
   "execution_count": 25,
   "metadata": {},
   "outputs": [
    {
     "name": "stdout",
     "output_type": "stream",
     "text": [
      "Epoch: 0001 cost= 7.800092667\n",
      "Epoch: 0002 cost= 4.189810447\n",
      "Epoch: 0003 cost= 2.920625732\n",
      "Epoch: 0004 cost= 2.300770526\n",
      "Epoch: 0005 cost= 1.948435313\n",
      "Epoch: 0006 cost= 1.720895854\n",
      "Epoch: 0007 cost= 1.565009457\n",
      "Epoch: 0008 cost= 1.445398739\n",
      "Epoch: 0009 cost= 1.356658870\n",
      "Epoch: 0010 cost= 1.282713319\n",
      "Epoch: 0011 cost= 1.223460970\n",
      "Epoch: 0012 cost= 1.173050876\n",
      "Epoch: 0013 cost= 1.129134410\n",
      "Epoch: 0014 cost= 1.091905132\n",
      "Epoch: 0015 cost= 1.058097314\n",
      "Epoch: 0016 cost= 1.028927710\n",
      "Epoch: 0017 cost= 1.002162912\n",
      "Epoch: 0018 cost= 0.977614583\n",
      "Epoch: 0019 cost= 0.957855033\n",
      "Epoch: 0020 cost= 0.936050969\n",
      "Epoch: 0021 cost= 0.917982248\n",
      "Epoch: 0022 cost= 0.900905509\n",
      "Epoch: 0023 cost= 0.884052798\n",
      "Epoch: 0024 cost= 0.870114659\n",
      "Epoch: 0025 cost= 0.858718369\n",
      "Finished! \n",
      "Accuracy: 0.8294\n",
      "Model saved in file:log/MNIST_recognition\n",
      "Starting 2nd session...\n",
      "INFO:tensorflow:Restoring parameters from log/MNIST_recognition\n",
      "Accuracy: 0.8294\n",
      "[1 1] [[3.7840211e-06 5.4532045e-01 7.0479442e-03 2.0551835e-03 1.3936495e-06\n",
      "  4.3903854e-02 3.9329756e-05 4.5489283e-05 4.0061814e-01 9.6441666e-04]\n",
      " [1.0781268e-11 9.9923086e-01 4.3362506e-05 1.4765074e-05 2.5573118e-07\n",
      "  1.2003348e-05 1.9341426e-06 4.2099421e-07 6.9389405e-04 2.4467067e-06]] [[0. 1. 0. 0. 0. 0. 0. 0. 0. 0.]\n",
      " [0. 1. 0. 0. 0. 0. 0. 0. 0. 0.]]\n"
     ]
    },
    {
     "data": {
      "image/png": "[encoded data removed]",
      "text/plain": [
       "<Figure size 432x288 with 1 Axes>"
      ]
     },
     "metadata": {
      "needs_background": "light"
     },
     "output_type": "display_data"
    },
    {
     "data": {
      "image/png": "[encoded data removed]",
      "text/plain": [
       "<Figure size 432x288 with 1 Axes>"
      ]
     },
     "metadata": {
      "needs_background": "light"
     },
     "output_type": "display_data"
    }
   ],
   "source": [
    "# 定义训练相关参数\n",
    "training_epochs = 25\n",
    "batch_size = 100\n",
    "display_step = 1\n",
    "\n",
    "# 启动session\n",
    "with tf.Session() as sess:\n",
    "    sess.run(tf.global_variables_initializer()) # Initializing \n",
    "    \n",
    "    # 启动循环，开始训练\n",
    "    for epoch in range(training_epochs):\n",
    "        avg_cost = 0\n",
    "        total_batch = int(mnist.train.num_examples/batch_size)\n",
    "        # 循环所有数据集\n",
    "        for i in range(total_batch):\n",
    "            batch_xs, batch_ys = mnist.train.next_batch(batch_size)\n",
    "            _, c = sess.run([optimizer, cost], feed_dict={x:batch_xs, y:batch_ys})\n",
    "        # 计算平均loss值\n",
    "            avg_cost += c / total_batch\n",
    "    # 显示训练中的详细信息\n",
    "        if (epoch+1) % display_step == 0:\n",
    "            print('Epoch:', '%04d' % (epoch+1), 'cost=', '{:.9f}'.format(avg_cost))\n",
    "        \n",
    "    print('Finished! ')\n",
    "    \n",
    "    \n",
    "# 3.5 测试模型\n",
    "# 测试model\n",
    "    correct_prediction = tf.equal(tf.argmax(pred,1), tf.argmax(y, 1))\n",
    "# 计算准确率\n",
    "    accuracy = tf.reduce_mean(tf.cast(correct_prediction, tf.float32))\n",
    "    print('Accuracy:', accuracy.eval(feed_dict={x:mnist.test.images, y:mnist.test.labels}))\n",
    "    \n",
    "# 3.6 保存模型    \n",
    "    save_path=saver.save(sess, model_path)\n",
    "    print('Model saved in file:{}'.format(save_path))\n",
    "\n",
    "# 3.7 读取模型\n",
    "\n",
    "print('Starting 2nd session...') \n",
    "with tf.Session() as sess:\n",
    "    # 初始化变量\n",
    "    sess.run(tf.global_variables_initializer())\n",
    "    # 载入模型\n",
    "    saver.restore(sess, model_path)\n",
    "    \n",
    "    # 测试模型\n",
    "    correct_prediction = tf.equal(tf.argmax(pred, 1), tf.argmax(y, 1))\n",
    "    # 计算准确率\n",
    "    accuracy = tf.reduce_mean(tf.cast(correct_prediction, tf.float32))\n",
    "    print('Accuracy:', accuracy.eval(feed_dict={x:mnist.test.images, y:mnist.test.labels}))\n",
    "    \n",
    "    output = tf.argmax(pred, 1)\n",
    "    batch_xs, batch_ys = mnist.train.next_batch(2)\n",
    "    outputval, predv = sess.run([output, pred], feed_dict={x:batch_xs})\n",
    "    print(outputval, predv, batch_ys)\n",
    "    \n",
    "    im = batch_xs[0]\n",
    "    im = im.reshape(-1, 28)\n",
    "    pylab.imshow(im)\n",
    "    pylab.show()\n",
    "    \n",
    "    im = batch_xs[1]\n",
    "    im = im.reshape(-1, 28)\n",
    "    pylab.imshow(im)\n",
    "    pylab.show()"
   ]
  },
  {
   "cell_type": "code",
   "execution_count": null,
   "metadata": {},
   "outputs": [],
   "source": [
    "\n"
   ]
  }
 ],
 "metadata": {
  "kernelspec": {
   "display_name": "Python 3",
   "language": "python",
   "name": "python3"
  },
  "language_info": {
   "codemirror_mode": {
    "name": "ipython",
    "version": 3
   },
   "file_extension": ".py",
   "mimetype": "text/x-python",
   "name": "python",
   "nbconvert_exporter": "python",
   "pygments_lexer": "ipython3",
   "version": "3.7.1"
  }
 },
 "nbformat": 4,
 "nbformat_minor": 2
}
